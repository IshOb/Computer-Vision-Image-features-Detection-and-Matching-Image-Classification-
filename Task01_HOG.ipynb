{
 "cells": [
  {
   "cell_type": "code",
   "execution_count": 1,
   "metadata": {},
   "outputs": [],
   "source": [
    "import pandas as pd\n",
    "import os\n",
    "from skimage.transform import resize\n",
    "from skimage.io import imread\n",
    "import numpy as np\n",
    "import matplotlib.pyplot as plt\n",
    "from sklearn.svm import LinearSVC\n",
    "from skimage import feature\n",
    "from sklearn import svm\n",
    "from sklearn.metrics import accuracy_score\n",
    "from sklearn.metrics import plot_confusion_matrix\n",
    "from mlxtend.plotting import plot_decision_regions\n",
    "from sklearn.metrics import f1_score\n",
    "from sklearn.ensemble import RandomForestClassifier"
   ]
  },
  {
   "cell_type": "code",
   "execution_count": 14,
   "metadata": {},
   "outputs": [
    {
     "name": "stdout",
     "output_type": "stream",
     "text": [
      "loading... category : neg\n",
      "loaded category:neg successfully\n",
      "loading... category : pos\n",
      "loaded category:pos successfully\n"
     ]
    }
   ],
   "source": [
    "Categories=['neg','pos']\n",
    "flat_data_arr=[] #input array\n",
    "target_arr=[] #output array\n",
    "datadir='C:\\\\Users\\\\HP\\\\Desktop\\\\INRIA_Dataset_Samples\\\\Train'\n",
    "#path which contains all the categories of images\n",
    "for i in Categories:\n",
    "    \n",
    "    print(f'loading... category : {i}')\n",
    "    path=os.path.join(datadir,i)\n",
    "    for img in os.listdir(path):\n",
    "        img_array=imread(os.path.join(path,img))\n",
    "        img_resized=resize(img_array,(150,150,3))\n",
    "        # get the HOG descriptor for the image\n",
    "        #hog_desc = feature.hog(img_resized, orientations=9, pixels_per_cell=(8, 8), cells_per_block=(2, 2), transform_sqrt=True, block_norm='L2-Hys')\n",
    "        #hog_desc = feature.hog(img_resized, orientations=8, pixels_per_cell=(16, 16), cells_per_block=(1, 1), transform_sqrt=True, block_norm='L2-Hys')\n",
    "        hog_desc = feature.hog(img_resized, orientations=8, pixels_per_cell=(16, 16), cells_per_block=(1, 1), transform_sqrt=False)\n",
    "        flat_data_arr.append(hog_desc)\n",
    "        target_arr.append(Categories.index(i))\n",
    "    print(f'loaded category:{i} successfully')\n",
    "flat_data=np.array(flat_data_arr)\n",
    "target=np.array(target_arr)\n",
    "df=pd.DataFrame(flat_data) #dataframe\n",
    "df['Target']=target\n",
    "x=df.iloc[:,:-1] #input data \n",
    "y=df.iloc[:,-1] #output data"
   ]
  },
  {
   "cell_type": "code",
   "execution_count": 15,
   "metadata": {},
   "outputs": [
    {
     "name": "stdout",
     "output_type": "stream",
     "text": [
      "loading... category : neg\n",
      "loaded category:neg successfully\n",
      "loading... category : pos\n",
      "loaded category:pos successfully\n"
     ]
    }
   ],
   "source": [
    "Categories=['neg','pos']\n",
    "test_flat_data_arr=[] #input array\n",
    "test_target_arr=[] #output array\n",
    "test_datadir='C:\\\\Users\\\\HP\\\\Desktop\\\\INRIA_Dataset_Samples\\\\Test'\n",
    "#path which contains all the categories of images\n",
    "for i in Categories:\n",
    "    \n",
    "    print(f'loading... category : {i}')\n",
    "    test_path=os.path.join(test_datadir,i)\n",
    "    for img in os.listdir(test_path):\n",
    "        test_img_array=imread(os.path.join(test_path,img))\n",
    "        test_img_resized=resize(test_img_array,(150,150,3))\n",
    "        # get the HOG descriptor for the image\n",
    "        #test_hog_desc = feature.hog(test_img_resized, orientations=9, pixels_per_cell=(8, 8), cells_per_block=(2, 2), transform_sqrt=True, block_norm='L2-Hys')\n",
    "        #test_hog_desc = feature.hog(test_img_resized, orientations=8, pixels_per_cell=(16, 16), cells_per_block=(1, 1), transform_sqrt=True, block_norm='L2-Hys')\n",
    "        test_hog_desc = feature.hog(test_img_resized, orientations=8, pixels_per_cell=(16, 16), cells_per_block=(1, 1), transform_sqrt=False)\n",
    "        test_flat_data_arr.append(hog_desc)\n",
    "        test_target_arr.append(Categories.index(i))\n",
    "    print(f'loaded category:{i} successfully')\n",
    "test_flat_data=np.array(test_flat_data_arr)\n",
    "test_target=np.array(test_target_arr)\n",
    "test_df=pd.DataFrame(test_flat_data) #dataframe\n",
    "test_df['Target']=test_target\n",
    "test_x=df.iloc[:,:-1] #input data \n",
    "test_y=df.iloc[:,-1] #output data"
   ]
  },
  {
   "cell_type": "markdown",
   "metadata": {},
   "source": [
    "Parameters of HOG: \n",
    "orientations=9, pixels_per_cell=(8, 8), cells_per_block=(2, 2), transform_sqrt=True, block_norm='L2-Hys'\n",
    "AND\n",
    "support = svm.LinearSVC(random_state=20)"
   ]
  },
  {
   "cell_type": "code",
   "execution_count": 4,
   "metadata": {},
   "outputs": [
    {
     "name": "stderr",
     "output_type": "stream",
     "text": [
      "D:\\Anaconda3\\lib\\site-packages\\sklearn\\svm\\_base.py:986: ConvergenceWarning: Liblinear failed to converge, increase the number of iterations.\n",
      "  \"the number of iterations.\", ConvergenceWarning)\n"
     ]
    },
    {
     "name": "stdout",
     "output_type": "stream",
     "text": [
      "Your Model Accuracy is 1.0\n",
      "F1-score is 1.0\n"
     ]
    },
    {
     "data": {
      "image/png": "[encoded data removed]",
      "text/plain": [
       "<Figure size 432x288 with 2 Axes>"
      ]
     },
     "metadata": {
      "needs_background": "light"
     },
     "output_type": "display_data"
    }
   ],
   "source": [
    "#with parameters:: hog_desc = feature.hog(img_resized, orientations=9, pixels_per_cell=(8, 8), cells_per_block=(2, 2), transform_sqrt=True, block_norm='L2-Hys')\n",
    "\n",
    "# Create Linear SVM object\n",
    "support = svm.LinearSVC(random_state=20)\n",
    "\n",
    "# Train the model using the training sets and check score on test dataset\n",
    "support.fit(x, y)\n",
    "predicted= support.predict(test_x)\n",
    "score=accuracy_score(test_y,predicted)\n",
    "print(\"Your Model Accuracy is\", score)\n",
    "np.set_printoptions(precision=2)\n",
    "\n",
    "# Plot non-normalized confusion matrix\n",
    "matrix = plot_confusion_matrix(support, test_x, test_y,\n",
    "                                 cmap=plt.cm.Blues,\n",
    "                                 normalize='true')\n",
    "f1=f1_score(test_y, predicted, average='weighted')\n",
    "print(\"F1-score is\", f1)\n",
    "plt.title('Confusion matrix for our classifier')\n",
    "plt.show(matrix)\n",
    "plt.show()"
   ]
  },
  {
   "cell_type": "markdown",
   "metadata": {},
   "source": [
    "Parameters of HOG: \n",
    "orientations=9, pixels_per_cell=(8, 8), cells_per_block=(2, 2), transform_sqrt=True, block_norm='L2-Hys'\n",
    "AND\n",
    "clf = svm.SVC(kernel='linear', C=0.01).fit(x, y)"
   ]
  },
  {
   "cell_type": "code",
   "execution_count": 5,
   "metadata": {},
   "outputs": [
    {
     "name": "stdout",
     "output_type": "stream",
     "text": [
      "Your Model Accuracy is 0.9991744634012107\n",
      "F1-score is 0.9991742105517646\n"
     ]
    },
    {
     "data": {
      "image/png": "[encoded data removed]",
      "text/plain": [
       "<Figure size 432x288 with 2 Axes>"
      ]
     },
     "metadata": {
      "needs_background": "light"
     },
     "output_type": "display_data"
    }
   ],
   "source": [
    "#with parameters:: hog_desc = feature.hog(img_resized, orientations=9, pixels_per_cell=(8, 8), cells_per_block=(2, 2), transform_sqrt=True, block_norm='L2-Hys')\n",
    "clf = svm.SVC(kernel='linear', C=0.01).fit(x, y)\n",
    "\n",
    "predicted= clf.predict(test_x)\n",
    "score=accuracy_score(test_y,predicted)\n",
    "print(\"Your Model Accuracy is\", score)\n",
    "np.set_printoptions(precision=2)\n",
    "\n",
    "# Plot non-normalized confusion matrix\n",
    "matrix = plot_confusion_matrix(clf, test_x, test_y,\n",
    "                                 cmap=plt.cm.Blues,\n",
    "                                 normalize='true')\n",
    "f1=f1_score(test_y, predicted, average='weighted')\n",
    "print(\"F1-score is\", f1)\n",
    "plt.title('Confusion matrix for our classifier')\n",
    "plt.show(matrix)\n",
    "plt.show()"
   ]
  },
  {
   "cell_type": "markdown",
   "metadata": {},
   "source": [
    "Parameters of HOG: \n",
    "orientations=9, pixels_per_cell=(8, 8), cells_per_block=(2, 2), transform_sqrt=True, block_norm='L2-Hys'\n",
    "AND\n",
    "clf=RandomForestClassifier(n_estimators=100)"
   ]
  },
  {
   "cell_type": "code",
   "execution_count": 7,
   "metadata": {},
   "outputs": [
    {
     "name": "stdout",
     "output_type": "stream",
     "text": [
      "Your Model Accuracy is 0.9991744634012107\n",
      "F1-score is 0.9991742105517646\n"
     ]
    },
    {
     "data": {
      "image/png": "[encoded data removed]",
      "text/plain": [
       "<Figure size 432x288 with 2 Axes>"
      ]
     },
     "metadata": {
      "needs_background": "light"
     },
     "output_type": "display_data"
    }
   ],
   "source": [
    "clf=RandomForestClassifier(n_estimators=100)\n",
    "#Train the model using the training sets y_pred=clf.predict(X_test)\n",
    "clf.fit(x,y)\n",
    "# prediction on test set\n",
    "y_pred=clf.predict(test_x)\n",
    "score=accuracy_score(test_y,predicted)\n",
    "print(\"Your Model Accuracy is\", score)\n",
    "np.set_printoptions(precision=2)\n",
    "\n",
    "# Plot non-normalized confusion matrix\n",
    "matrix = plot_confusion_matrix(clf, test_x, test_y,\n",
    "                                 cmap=plt.cm.Blues,\n",
    "                                 normalize='true')\n",
    "f1=f1_score(test_y, predicted, average='weighted')\n",
    "print(\"F1-score is\", f1)\n",
    "plt.title('Confusion matrix for our classifier')\n",
    "plt.show(matrix)\n",
    "plt.show()"
   ]
  },
  {
   "cell_type": "markdown",
   "metadata": {},
   "source": [
    "Parameters of HOG: \n",
    "orientations=8, pixels_per_cell=(16, 16), cells_per_block=(1, 1), transform_sqrt=True, block_norm='L2-Hys'\n",
    "AND\n",
    "support = svm.LinearSVC(random_state=20)"
   ]
  },
  {
   "cell_type": "code",
   "execution_count": 10,
   "metadata": {},
   "outputs": [
    {
     "name": "stdout",
     "output_type": "stream",
     "text": [
      "Your Model Accuracy is 0.999724821133737\n",
      "F1-score is 0.9997248491117365\n"
     ]
    },
    {
     "name": "stderr",
     "output_type": "stream",
     "text": [
      "D:\\Anaconda3\\lib\\site-packages\\sklearn\\svm\\_base.py:986: ConvergenceWarning: Liblinear failed to converge, increase the number of iterations.\n",
      "  \"the number of iterations.\", ConvergenceWarning)\n"
     ]
    },
    {
     "data": {
      "image/png": "[encoded data removed]",
      "text/plain": [
       "<Figure size 432x288 with 2 Axes>"
      ]
     },
     "metadata": {
      "needs_background": "light"
     },
     "output_type": "display_data"
    }
   ],
   "source": [
    "#with parameters::hog_desc = feature.hog(img_resized, orientations=8, pixels_per_cell=(16, 16), cells_per_block=(1, 1), transform_sqrt=True, block_norm='L2-Hys')\n",
    "\n",
    "# Create Linear SVM object\n",
    "support = svm.LinearSVC(random_state=20)\n",
    "\n",
    "# Train the model using the training sets and check score on test dataset\n",
    "support.fit(x, y)\n",
    "\n",
    "predicted= support.predict(test_x)\n",
    "score=accuracy_score(test_y,predicted)\n",
    "print(\"Your Model Accuracy is\", score)\n",
    "np.set_printoptions(precision=2)\n",
    "\n",
    "# Plot non-normalized confusion matrix\n",
    "matrix = plot_confusion_matrix(support, test_x, test_y,\n",
    "                                 cmap=plt.cm.Blues,\n",
    "                                 normalize='true')\n",
    "f1=f1_score(test_y, predicted, average='weighted')\n",
    "print(\"F1-score is\", f1)\n",
    "plt.title('Confusion matrix for our classifier')\n",
    "plt.show(matrix)\n",
    "plt.show()"
   ]
  },
  {
   "cell_type": "markdown",
   "metadata": {},
   "source": [
    "Parameters of HOG: \n",
    "orientations=8, pixels_per_cell=(16, 16), cells_per_block=(1, 1), transform_sqrt=False\n",
    "AND\n",
    "support = svm.LinearSVC(random_state=20)"
   ]
  },
  {
   "cell_type": "code",
   "execution_count": 16,
   "metadata": {},
   "outputs": [
    {
     "name": "stdout",
     "output_type": "stream",
     "text": [
      "Your Model Accuracy is 0.999724821133737\n",
      "F1-score is 0.9997248491117365\n"
     ]
    },
    {
     "name": "stderr",
     "output_type": "stream",
     "text": [
      "D:\\Anaconda3\\lib\\site-packages\\sklearn\\svm\\_base.py:986: ConvergenceWarning: Liblinear failed to converge, increase the number of iterations.\n",
      "  \"the number of iterations.\", ConvergenceWarning)\n"
     ]
    },
    {
     "data": {
      "image/png": "[encoded data removed]",
      "text/plain": [
       "<Figure size 432x288 with 2 Axes>"
      ]
     },
     "metadata": {
      "needs_background": "light"
     },
     "output_type": "display_data"
    }
   ],
   "source": [
    "#with parameters::hog_desc = feature.hog(img_resized, orientations=8, pixels_per_cell=(16, 16), cells_per_block=(1, 1), transform_sqrt=False)\n",
    "\n",
    "# Create Linear SVM object\n",
    "support = svm.LinearSVC(random_state=20)\n",
    "\n",
    "# Train the model using the training sets and check score on test dataset\n",
    "support.fit(x, y)\n",
    "\n",
    "predicted= support.predict(test_x)\n",
    "score=accuracy_score(test_y,predicted)\n",
    "print(\"Your Model Accuracy is\", score)\n",
    "np.set_printoptions(precision=2)\n",
    "\n",
    "# Plot non-normalized confusion matrix\n",
    "matrix = plot_confusion_matrix(support, test_x, test_y,\n",
    "                                 cmap=plt.cm.Blues,\n",
    "                                 normalize='true')\n",
    "f1=f1_score(test_y, predicted, average='weighted')\n",
    "print(\"F1-score is\", f1)\n",
    "plt.title('Confusion matrix for our classifier')\n",
    "plt.show(matrix)\n",
    "plt.show()"
   ]
  },
  {
   "cell_type": "markdown",
   "metadata": {},
   "source": [
    "Parameters of HOG: \n",
    "orientations=8, pixels_per_cell=(16, 16), cells_per_block=(1, 1), transform_sqrt=False\n",
    "AND\n",
    "clf = svm.SVC(kernel='linear', C=0.01).fit(x, y)"
   ]
  },
  {
   "cell_type": "code",
   "execution_count": 17,
   "metadata": {},
   "outputs": [
    {
     "name": "stdout",
     "output_type": "stream",
     "text": [
      "Your Model Accuracy is 0.949642267473858\n",
      "F1-score is 0.949274512127792\n"
     ]
    },
    {
     "data": {
      "image/png": "[encoded data removed]",
      "text/plain": [
       "<Figure size 432x288 with 2 Axes>"
      ]
     },
     "metadata": {
      "needs_background": "light"
     },
     "output_type": "display_data"
    }
   ],
   "source": [
    "#with parameters::hog_desc = feature.hog(img_resized, orientations=8, pixels_per_cell=(16, 16), cells_per_block=(1, 1), transform_sqrt=False)\n",
    "\n",
    "clf = svm.SVC(kernel='linear', C=0.01).fit(x, y)\n",
    "\n",
    "predicted= clf.predict(test_x)\n",
    "score=accuracy_score(test_y,predicted)\n",
    "print(\"Your Model Accuracy is\", score)\n",
    "\n",
    "np.set_printoptions(precision=2)\n",
    "\n",
    "# Plot non-normalized confusion matrix\n",
    "matrix = plot_confusion_matrix(clf, test_x, test_y,\n",
    "                                 cmap=plt.cm.Blues,\n",
    "                                 normalize='true')\n",
    "f1=f1_score(test_y, predicted, average='weighted')\n",
    "print(\"F1-score is\", f1)\n",
    "plt.title('Confusion matrix for our classifier')\n",
    "plt.show(matrix)\n",
    "plt.show()"
   ]
  },
  {
   "cell_type": "code",
   "execution_count": null,
   "metadata": {},
   "outputs": [],
   "source": []
  }
 ],
 "metadata": {
  "kernelspec": {
   "display_name": "Python 3",
   "language": "python",
   "name": "python3"
  },
  "language_info": {
   "codemirror_mode": {
    "name": "ipython",
    "version": 3
   },
   "file_extension": ".py",
   "mimetype": "text/x-python",
   "name": "python",
   "nbconvert_exporter": "python",
   "pygments_lexer": "ipython3",
   "version": "3.7.1"
  }
 },
 "nbformat": 4,
 "nbformat_minor": 2
}
